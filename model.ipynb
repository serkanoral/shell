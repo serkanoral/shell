{
 "cells": [
  {
   "cell_type": "code",
   "execution_count": 259,
   "metadata": {},
   "outputs": [],
   "source": [
    "import pandas as pd\n",
    "import numpy as np\n",
    "import matplotlib.pylab as plt\n",
    "import seaborn as sns\n",
    "from skimpy import clean_columns, skim\n",
    "from sklearn.pipeline import Pipeline\n",
    "from sklearn.impute import KNNImputer\n",
    "from sklearn.model_selection import train_test_split,RandomizedSearchCV\n",
    "from sklearn.ensemble import RandomForestRegressor\n",
    "from sklearn.metrics import mean_absolute_error\n",
    "from sklearn.preprocessing import StandardScaler,OneHotEncoder\n",
    "from sklearn.linear_model import Ridge\n",
    "from lightgbm import LGBMRegressor\n",
    "from sklearn.decomposition import TruncatedSVD\n",
    "from xgboost import XGBRFRegressor\n",
    "from sklearn.feature_selection import VarianceThreshold\n",
    "from sklearn.svm import LinearSVC"
   ]
  },
  {
   "cell_type": "code",
   "execution_count": 260,
   "metadata": {},
   "outputs": [
    {
     "data": {
      "text/html": [
       "<pre style=\"white-space:pre;overflow-x:auto;line-height:normal;font-family:Menlo,'DejaVu Sans Mono',consolas,'Courier New',monospace\"><span style=\"color: #008080; text-decoration-color: #008080; font-weight: bold\">7</span> column names have been cleaned\n",
       "</pre>\n"
      ],
      "text/plain": [
       "\u001b[1;36m7\u001b[0m column names have been cleaned\n"
      ]
     },
     "metadata": {},
     "output_type": "display_data"
    },
    {
     "data": {
      "text/html": [
       "<pre style=\"white-space:pre;overflow-x:auto;line-height:normal;font-family:Menlo,'DejaVu Sans Mono',consolas,'Courier New',monospace\"><span style=\"color: #008080; text-decoration-color: #008080; font-weight: bold\">17</span> column names have been cleaned\n",
       "</pre>\n"
      ],
      "text/plain": [
       "\u001b[1;36m17\u001b[0m column names have been cleaned\n"
      ]
     },
     "metadata": {},
     "output_type": "display_data"
    },
    {
     "data": {
      "text/html": [
       "<pre style=\"white-space:pre;overflow-x:auto;line-height:normal;font-family:Menlo,'DejaVu Sans Mono',consolas,'Courier New',monospace\"><span style=\"color: #008080; text-decoration-color: #008080; font-weight: bold\">5</span> column names have been cleaned\n",
       "</pre>\n"
      ],
      "text/plain": [
       "\u001b[1;36m5\u001b[0m column names have been cleaned\n"
      ]
     },
     "metadata": {},
     "output_type": "display_data"
    },
    {
     "data": {
      "text/html": [
       "<pre style=\"white-space:pre;overflow-x:auto;line-height:normal;font-family:Menlo,'DejaVu Sans Mono',consolas,'Courier New',monospace\"><span style=\"color: #008080; text-decoration-color: #008080; font-weight: bold\">5</span> column names have been cleaned\n",
       "</pre>\n"
      ],
      "text/plain": [
       "\u001b[1;36m5\u001b[0m column names have been cleaned\n"
      ]
     },
     "metadata": {},
     "output_type": "display_data"
    },
    {
     "data": {
      "text/html": [
       "<pre style=\"white-space:pre;overflow-x:auto;line-height:normal;font-family:Menlo,'DejaVu Sans Mono',consolas,'Courier New',monospace\"><span style=\"color: #008080; text-decoration-color: #008080; font-weight: bold\">7</span> column names have been cleaned\n",
       "</pre>\n"
      ],
      "text/plain": [
       "\u001b[1;36m7\u001b[0m column names have been cleaned\n"
      ]
     },
     "metadata": {},
     "output_type": "display_data"
    },
    {
     "data": {
      "text/html": [
       "<pre style=\"white-space:pre;overflow-x:auto;line-height:normal;font-family:Menlo,'DejaVu Sans Mono',consolas,'Courier New',monospace\"><span style=\"color: #008080; text-decoration-color: #008080; font-weight: bold\">8</span> column names have been cleaned\n",
       "</pre>\n"
      ],
      "text/plain": [
       "\u001b[1;36m8\u001b[0m column names have been cleaned\n"
      ]
     },
     "metadata": {},
     "output_type": "display_data"
    },
    {
     "data": {
      "text/html": [
       "<pre style=\"white-space:pre;overflow-x:auto;line-height:normal;font-family:Menlo,'DejaVu Sans Mono',consolas,'Courier New',monospace\"><span style=\"color: #008080; text-decoration-color: #008080; font-weight: bold\">5</span> column names have been cleaned\n",
       "</pre>\n"
      ],
      "text/plain": [
       "\u001b[1;36m5\u001b[0m column names have been cleaned\n"
      ]
     },
     "metadata": {},
     "output_type": "display_data"
    }
   ],
   "source": [
    "\n",
    "brent = clean_columns (pd.read_csv(\"new-shell-cashflow-datathon-2023/brent.csv\", parse_dates= ['Tarih']))\n",
    "cash_flow_train = clean_columns(pd.read_csv(\"new-shell-cashflow-datathon-2023/cash_flow_train.csv\", parse_dates= ['Date']))  \n",
    "depo_pump_imm =  clean_columns(pd.read_csv(\"new-shell-cashflow-datathon-2023/depo_pump_imm.csv\")) \n",
    "otv =  clean_columns(pd.read_csv(\"new-shell-cashflow-datathon-2023/otv.csv\", parse_dates= ['Tarih'])) \n",
    "platts = clean_columns(pd.read_csv(\"new-shell-cashflow-datathon-2023/platts.csv\", parse_dates= ['Tarih']))  \n",
    "sample_submission = pd.read_csv(\"new-shell-cashflow-datathon-2023/sample_submission.csv\")\n",
    "usd =  clean_columns(pd.read_csv(\"new-shell-cashflow-datathon-2023/usd.csv\", parse_dates= ['Tarih'])) \n",
    "volume = clean_columns(pd.read_csv(\"new-shell-cashflow-datathon-2023/volume.csv\", parse_dates= ['Posting date']))"
   ]
  },
  {
   "cell_type": "code",
   "execution_count": 261,
   "metadata": {},
   "outputs": [],
   "source": [
    "brent_cash = cash_flow_train.merge(brent, left_on= 'date', right_on='tarih', how= 'left').drop('tarih', axis =1)"
   ]
  },
  {
   "cell_type": "code",
   "execution_count": 262,
   "metadata": {},
   "outputs": [
    {
     "name": "stderr",
     "output_type": "stream",
     "text": [
      "/var/folders/t1/db5m68vn10v3148_nq_7r8b80000gn/T/ipykernel_998/870535568.py:1: UserWarning: Parsing dates in DD/MM/YYYY format when dayfirst=False (the default) was specified. This may lead to inconsistently parsed dates! Specify a format to ensure consistent parsing.\n",
      "  dates = pd.DataFrame({'date' :pd.date_range(start='1-1-2018', end= '31-12-2022')})\n"
     ]
    }
   ],
   "source": [
    "dates = pd.DataFrame({'date' :pd.date_range(start='1-1-2018', end= '31-12-2022')})  \n",
    "dates['year'] = dates['date'].dt.year\n",
    "dates['month'] = dates['date'].dt.month"
   ]
  },
  {
   "cell_type": "code",
   "execution_count": 263,
   "metadata": {},
   "outputs": [],
   "source": [
    "depo = dates.merge(depo_pump_imm, left_on= ['year', 'month'], right_on= ['yl', 'ay']).drop(['yl','ay'], axis = 1)"
   ]
  },
  {
   "cell_type": "code",
   "execution_count": 264,
   "metadata": {},
   "outputs": [],
   "source": [
    "brent_cash_depo = brent_cash.merge(depo, on = 'date', how = 'left')"
   ]
  },
  {
   "cell_type": "code",
   "execution_count": 265,
   "metadata": {},
   "outputs": [],
   "source": [
    "otv.drop_duplicates(inplace= True)"
   ]
  },
  {
   "cell_type": "code",
   "execution_count": 266,
   "metadata": {},
   "outputs": [],
   "source": [
    "otv_fixed =  otv.drop(['otv','adet'], axis = 1).pivot(index= 'tarih', columns= 'otv_uygulanan_urun_ad').reset_index()"
   ]
  },
  {
   "cell_type": "code",
   "execution_count": 267,
   "metadata": {},
   "outputs": [],
   "source": [
    "otv_fixed = otv_fixed.droplevel(0, axis =1)"
   ]
  },
  {
   "cell_type": "code",
   "execution_count": 268,
   "metadata": {},
   "outputs": [],
   "source": [
    "otv_fixed.columns = ['date', 'benzinli_motorin', 'etanallu_kursunsuz_benzin_95', 'kursunsuz_benzin_95','lpg','motorin']"
   ]
  },
  {
   "cell_type": "code",
   "execution_count": 269,
   "metadata": {},
   "outputs": [],
   "source": [
    "otv_fixed.fillna(method= 'bfill').fillna(method= 'ffill', inplace= True )"
   ]
  },
  {
   "cell_type": "code",
   "execution_count": 270,
   "metadata": {},
   "outputs": [],
   "source": [
    "brent_cash_depo_otv =  brent_cash_depo.merge(otv_fixed,left_on = 'date', right_on = 'date', how = 'left')"
   ]
  },
  {
   "cell_type": "code",
   "execution_count": 271,
   "metadata": {},
   "outputs": [],
   "source": [
    "platts_1 =  platts[platts['urun'] == '10 ppm ULSD CIF Med (Genova/Lavera)']"
   ]
  },
  {
   "cell_type": "code",
   "execution_count": 272,
   "metadata": {},
   "outputs": [],
   "source": [
    "platts_2 = platts[platts['urun'] == 'Prem Unl 10 ppm CIF Med (Genova/Lavera)']"
   ]
  },
  {
   "cell_type": "code",
   "execution_count": 273,
   "metadata": {},
   "outputs": [],
   "source": [
    "brent_cash_depo_otv_platts_1 =  brent_cash_depo_otv.merge(platts_1,left_on = 'date', right_on = 'tarih', how = 'left')"
   ]
  },
  {
   "cell_type": "code",
   "execution_count": 274,
   "metadata": {},
   "outputs": [],
   "source": [
    "brent_cash_depo_otv_platts =  brent_cash_depo_otv_platts_1.merge(platts_2,left_on = 'date', right_on = 'tarih', how = 'left')"
   ]
  },
  {
   "cell_type": "code",
   "execution_count": 275,
   "metadata": {},
   "outputs": [],
   "source": [
    "brent_cash_depo_otv_platts_usd =  brent_cash_depo_otv_platts.merge(usd,left_on = 'date', right_on = 'tarih', how = 'left')"
   ]
  },
  {
   "cell_type": "code",
   "execution_count": 276,
   "metadata": {},
   "outputs": [],
   "source": [
    "brent_cash_depo_otv_platts_usd.drop(['tarih_x', 'tarih_y'], axis= 1, inplace= True)"
   ]
  },
  {
   "cell_type": "code",
   "execution_count": 277,
   "metadata": {},
   "outputs": [],
   "source": [
    "volume_fixed =  volume.pivot( columns= ['product', 'material_description', 'category'], values=  'sales_volumes_in_l_15', index= 'posting_date')"
   ]
  },
  {
   "cell_type": "code",
   "execution_count": 278,
   "metadata": {},
   "outputs": [],
   "source": [
    "volume_fixed = volume_fixed.droplevel(level=0, axis='columns')"
   ]
  },
  {
   "cell_type": "code",
   "execution_count": 279,
   "metadata": {},
   "outputs": [],
   "source": [
    "volume_fixed = volume_fixed.droplevel(level=0, axis='columns')"
   ]
  },
  {
   "cell_type": "code",
   "execution_count": 280,
   "metadata": {},
   "outputs": [],
   "source": [
    "brent_cash_depo_otv_platts_usd_volume=  brent_cash_depo_otv_platts_usd.merge(volume_fixed, left_on= 'date', right_on= 'posting_date', how= 'left')"
   ]
  },
  {
   "cell_type": "code",
   "execution_count": 281,
   "metadata": {},
   "outputs": [
    {
     "name": "stdout",
     "output_type": "stream",
     "text": [
      "<class 'pandas.core.frame.DataFrame'>\n",
      "Int64Index: 1025 entries, 0 to 1024\n",
      "Data columns (total 53 columns):\n",
      " #   Column                          Non-Null Count  Dtype         \n",
      "---  ------                          --------------  -----         \n",
      " 0   date                            1025 non-null   datetime64[ns]\n",
      " 1   total_inflows                   1025 non-null   float64       \n",
      " 2   customers_dds                   1025 non-null   float64       \n",
      " 3   customers_eft                   1025 non-null   float64       \n",
      " 4   t_&_s_collections               1025 non-null   float64       \n",
      " 5   fx_sales                        1025 non-null   float64       \n",
      " 6   other_operations                1025 non-null   float64       \n",
      " 7   total_outflows                  1025 non-null   float64       \n",
      " 8   tupras                          1025 non-null   float64       \n",
      " 9   other_oil                       1025 non-null   float64       \n",
      " 10  gas                             1025 non-null   float64       \n",
      " 11  import_payments_fx_purchases    1025 non-null   float64       \n",
      " 12  tax                             1025 non-null   float64       \n",
      " 13  operational_and_admin_expenses  1025 non-null   float64       \n",
      " 14  vis_buyback_payments            1025 non-null   float64       \n",
      " 15  net_cashflow_from_operations    1025 non-null   float64       \n",
      " 16  inflows_currency                524 non-null    float64       \n",
      " 17  urun_x                          1025 non-null   object        \n",
      " 18  avrupa_birligi_para_birimi      1025 non-null   object        \n",
      " 19  ab_piyasa_fiyat_x               1025 non-null   float64       \n",
      " 20  ab_piyasa_fiyat_yuksek_x        1001 non-null   float64       \n",
      " 21  ab_piyasa_fiyat_dusuk_x         1001 non-null   float64       \n",
      " 22  dolar_kuru_sats_x               1025 non-null   float64       \n",
      " 23  year                            1002 non-null   float64       \n",
      " 24  month                           1002 non-null   float64       \n",
      " 25  imm_tl_m_3                      1002 non-null   object        \n",
      " 26  pump_price                      1002 non-null   object        \n",
      " 27  depot_price                     1002 non-null   object        \n",
      " 28  benzinli_motorin                44 non-null     float64       \n",
      " 29  etanallu_kursunsuz_benzin_95    34 non-null     float64       \n",
      " 30  kursunsuz_benzin_95             34 non-null     float64       \n",
      " 31  lpg                             23 non-null     float64       \n",
      " 32  motorin                         44 non-null     float64       \n",
      " 33  urun_y                          1002 non-null   object        \n",
      " 34  avrupa_birligi_birimi_x         1002 non-null   object        \n",
      " 35  ab_piyasa_fiyat_y               1002 non-null   float64       \n",
      " 36  ab_piyasa_fiyat_yuksek_y        1002 non-null   float64       \n",
      " 37  ab_piyasa_fiyat_dusuk_y         1002 non-null   float64       \n",
      " 38  dolar_kuru_sats_y               1002 non-null   float64       \n",
      " 39  urun                            1002 non-null   object        \n",
      " 40  avrupa_birligi_birimi_y         1002 non-null   object        \n",
      " 41  ab_piyasa_fiyat                 1002 non-null   float64       \n",
      " 42  ab_piyasa_fiyat_yuksek          1002 non-null   float64       \n",
      " 43  ab_piyasa_fiyat_dusuk           1002 non-null   float64       \n",
      " 44  dolar_kuru_sats                 1002 non-null   float64       \n",
      " 45  yl                              1025 non-null   int64         \n",
      " 46  tarih                           1025 non-null   datetime64[ns]\n",
      " 47  usd_alis                        1025 non-null   float64       \n",
      " 48  usd_satis                       1025 non-null   float64       \n",
      " 49  eur_alis                        1025 non-null   float64       \n",
      " 50  eur_satis                       1025 non-null   float64       \n",
      " 51  gbp_alis                        1025 non-null   float64       \n",
      " 52  gbp_satis                       1025 non-null   float64       \n",
      "dtypes: datetime64[ns](2), float64(41), int64(1), object(9)\n",
      "memory usage: 432.4+ KB\n"
     ]
    }
   ],
   "source": [
    "brent_cash_depo_otv_platts_usd.info()"
   ]
  },
  {
   "cell_type": "code",
   "execution_count": 282,
   "metadata": {},
   "outputs": [],
   "source": [
    "limit_par = len(brent_cash_depo_otv_platts_usd_volume) * 0.7\n",
    "brent_cash_depo_otv_platts_usd_volume.dropna(thresh= limit_par, axis=1, inplace= True)"
   ]
  },
  {
   "cell_type": "code",
   "execution_count": 283,
   "metadata": {},
   "outputs": [],
   "source": [
    "brent_cash_depo_otv_platts_usd_volume['date_'] = brent_cash_depo_otv_platts_usd_volume['date'] + pd.Timedelta(days=105)"
   ]
  },
  {
   "cell_type": "code",
   "execution_count": 284,
   "metadata": {},
   "outputs": [],
   "source": [
    "brent_cash_depo_otv_platts_usd_volume.set_index('date_', inplace= True)"
   ]
  },
  {
   "cell_type": "code",
   "execution_count": 285,
   "metadata": {},
   "outputs": [],
   "source": [
    "data = brent_cash_depo_otv_platts_usd_volume._get_numeric_data()"
   ]
  },
  {
   "cell_type": "code",
   "execution_count": 286,
   "metadata": {},
   "outputs": [],
   "source": [
    "# data['day_of_the_week'] = data.index.day_of_week\n",
    "# data['month'] = data.index.month"
   ]
  },
  {
   "cell_type": "code",
   "execution_count": 287,
   "metadata": {},
   "outputs": [],
   "source": [
    "data_train =  data['2019-04-02':'2023-02-01']"
   ]
  },
  {
   "cell_type": "code",
   "execution_count": 288,
   "metadata": {},
   "outputs": [],
   "source": [
    "data_test = data['2023-02-02': '2023-05-12']"
   ]
  },
  {
   "cell_type": "code",
   "execution_count": 289,
   "metadata": {},
   "outputs": [
    {
     "name": "stderr",
     "output_type": "stream",
     "text": [
      "/var/folders/t1/db5m68vn10v3148_nq_7r8b80000gn/T/ipykernel_998/2263494553.py:1: SettingWithCopyWarning: \n",
      "A value is trying to be set on a copy of a slice from a DataFrame\n",
      "\n",
      "See the caveats in the documentation: https://pandas.pydata.org/pandas-docs/stable/user_guide/indexing.html#returning-a-view-versus-a-copy\n",
      "  data_test.drop('net_cashflow_from_operations', axis=1, inplace= True)\n"
     ]
    }
   ],
   "source": [
    "data_test.drop('net_cashflow_from_operations', axis=1, inplace= True)"
   ]
  },
  {
   "cell_type": "code",
   "execution_count": 290,
   "metadata": {},
   "outputs": [],
   "source": [
    "X = data_train.drop('net_cashflow_from_operations', axis=1)"
   ]
  },
  {
   "cell_type": "code",
   "execution_count": 291,
   "metadata": {},
   "outputs": [],
   "source": [
    "y = data_train['net_cashflow_from_operations']"
   ]
  },
  {
   "cell_type": "code",
   "execution_count": 292,
   "metadata": {},
   "outputs": [],
   "source": [
    "X_train, X_test, y_train, y_test = train_test_split(\n",
    "    X, y, test_size=0.33, random_state=42, shuffle=False)"
   ]
  },
  {
   "cell_type": "code",
   "execution_count": null,
   "metadata": {},
   "outputs": [],
   "source": []
  },
  {
   "cell_type": "code",
   "execution_count": 293,
   "metadata": {},
   "outputs": [],
   "source": [
    "pipe = Pipeline([('impute', KNNImputer()), \n",
    "                 ('onehot', OneHotEncoder(handle_unknown='ignore')),\n",
    "                  ('rf', RandomForestRegressor(random_state = 42, \n",
    "                                               n_estimators= 1000,\n",
    "                                               min_samples_leaf = 10))])"
   ]
  },
  {
   "cell_type": "code",
   "execution_count": 294,
   "metadata": {},
   "outputs": [
    {
     "data": {
      "text/html": [
       "<style>#sk-container-id-6 {color: black;background-color: white;}#sk-container-id-6 pre{padding: 0;}#sk-container-id-6 div.sk-toggleable {background-color: white;}#sk-container-id-6 label.sk-toggleable__label {cursor: pointer;display: block;width: 100%;margin-bottom: 0;padding: 0.3em;box-sizing: border-box;text-align: center;}#sk-container-id-6 label.sk-toggleable__label-arrow:before {content: \"▸\";float: left;margin-right: 0.25em;color: #696969;}#sk-container-id-6 label.sk-toggleable__label-arrow:hover:before {color: black;}#sk-container-id-6 div.sk-estimator:hover label.sk-toggleable__label-arrow:before {color: black;}#sk-container-id-6 div.sk-toggleable__content {max-height: 0;max-width: 0;overflow: hidden;text-align: left;background-color: #f0f8ff;}#sk-container-id-6 div.sk-toggleable__content pre {margin: 0.2em;color: black;border-radius: 0.25em;background-color: #f0f8ff;}#sk-container-id-6 input.sk-toggleable__control:checked~div.sk-toggleable__content {max-height: 200px;max-width: 100%;overflow: auto;}#sk-container-id-6 input.sk-toggleable__control:checked~label.sk-toggleable__label-arrow:before {content: \"▾\";}#sk-container-id-6 div.sk-estimator input.sk-toggleable__control:checked~label.sk-toggleable__label {background-color: #d4ebff;}#sk-container-id-6 div.sk-label input.sk-toggleable__control:checked~label.sk-toggleable__label {background-color: #d4ebff;}#sk-container-id-6 input.sk-hidden--visually {border: 0;clip: rect(1px 1px 1px 1px);clip: rect(1px, 1px, 1px, 1px);height: 1px;margin: -1px;overflow: hidden;padding: 0;position: absolute;width: 1px;}#sk-container-id-6 div.sk-estimator {font-family: monospace;background-color: #f0f8ff;border: 1px dotted black;border-radius: 0.25em;box-sizing: border-box;margin-bottom: 0.5em;}#sk-container-id-6 div.sk-estimator:hover {background-color: #d4ebff;}#sk-container-id-6 div.sk-parallel-item::after {content: \"\";width: 100%;border-bottom: 1px solid gray;flex-grow: 1;}#sk-container-id-6 div.sk-label:hover label.sk-toggleable__label {background-color: #d4ebff;}#sk-container-id-6 div.sk-serial::before {content: \"\";position: absolute;border-left: 1px solid gray;box-sizing: border-box;top: 0;bottom: 0;left: 50%;z-index: 0;}#sk-container-id-6 div.sk-serial {display: flex;flex-direction: column;align-items: center;background-color: white;padding-right: 0.2em;padding-left: 0.2em;position: relative;}#sk-container-id-6 div.sk-item {position: relative;z-index: 1;}#sk-container-id-6 div.sk-parallel {display: flex;align-items: stretch;justify-content: center;background-color: white;position: relative;}#sk-container-id-6 div.sk-item::before, #sk-container-id-6 div.sk-parallel-item::before {content: \"\";position: absolute;border-left: 1px solid gray;box-sizing: border-box;top: 0;bottom: 0;left: 50%;z-index: -1;}#sk-container-id-6 div.sk-parallel-item {display: flex;flex-direction: column;z-index: 1;position: relative;background-color: white;}#sk-container-id-6 div.sk-parallel-item:first-child::after {align-self: flex-end;width: 50%;}#sk-container-id-6 div.sk-parallel-item:last-child::after {align-self: flex-start;width: 50%;}#sk-container-id-6 div.sk-parallel-item:only-child::after {width: 0;}#sk-container-id-6 div.sk-dashed-wrapped {border: 1px dashed gray;margin: 0 0.4em 0.5em 0.4em;box-sizing: border-box;padding-bottom: 0.4em;background-color: white;}#sk-container-id-6 div.sk-label label {font-family: monospace;font-weight: bold;display: inline-block;line-height: 1.2em;}#sk-container-id-6 div.sk-label-container {text-align: center;}#sk-container-id-6 div.sk-container {/* jupyter's `normalize.less` sets `[hidden] { display: none; }` but bootstrap.min.css set `[hidden] { display: none !important; }` so we also need the `!important` here to be able to override the default hidden behavior on the sphinx rendered scikit-learn.org. See: https://github.com/scikit-learn/scikit-learn/issues/21755 */display: inline-block !important;position: relative;}#sk-container-id-6 div.sk-text-repr-fallback {display: none;}</style><div id=\"sk-container-id-6\" class=\"sk-top-container\"><div class=\"sk-text-repr-fallback\"><pre>Pipeline(steps=[(&#x27;impute&#x27;, KNNImputer()),\n",
       "                (&#x27;onehot&#x27;, OneHotEncoder(handle_unknown=&#x27;ignore&#x27;)),\n",
       "                (&#x27;rf&#x27;,\n",
       "                 RandomForestRegressor(min_samples_leaf=10, n_estimators=1000,\n",
       "                                       random_state=42))])</pre><b>In a Jupyter environment, please rerun this cell to show the HTML representation or trust the notebook. <br />On GitHub, the HTML representation is unable to render, please try loading this page with nbviewer.org.</b></div><div class=\"sk-container\" hidden><div class=\"sk-item sk-dashed-wrapped\"><div class=\"sk-label-container\"><div class=\"sk-label sk-toggleable\"><input class=\"sk-toggleable__control sk-hidden--visually\" id=\"sk-estimator-id-24\" type=\"checkbox\" ><label for=\"sk-estimator-id-24\" class=\"sk-toggleable__label sk-toggleable__label-arrow\">Pipeline</label><div class=\"sk-toggleable__content\"><pre>Pipeline(steps=[(&#x27;impute&#x27;, KNNImputer()),\n",
       "                (&#x27;onehot&#x27;, OneHotEncoder(handle_unknown=&#x27;ignore&#x27;)),\n",
       "                (&#x27;rf&#x27;,\n",
       "                 RandomForestRegressor(min_samples_leaf=10, n_estimators=1000,\n",
       "                                       random_state=42))])</pre></div></div></div><div class=\"sk-serial\"><div class=\"sk-item\"><div class=\"sk-estimator sk-toggleable\"><input class=\"sk-toggleable__control sk-hidden--visually\" id=\"sk-estimator-id-25\" type=\"checkbox\" ><label for=\"sk-estimator-id-25\" class=\"sk-toggleable__label sk-toggleable__label-arrow\">KNNImputer</label><div class=\"sk-toggleable__content\"><pre>KNNImputer()</pre></div></div></div><div class=\"sk-item\"><div class=\"sk-estimator sk-toggleable\"><input class=\"sk-toggleable__control sk-hidden--visually\" id=\"sk-estimator-id-26\" type=\"checkbox\" ><label for=\"sk-estimator-id-26\" class=\"sk-toggleable__label sk-toggleable__label-arrow\">OneHotEncoder</label><div class=\"sk-toggleable__content\"><pre>OneHotEncoder(handle_unknown=&#x27;ignore&#x27;)</pre></div></div></div><div class=\"sk-item\"><div class=\"sk-estimator sk-toggleable\"><input class=\"sk-toggleable__control sk-hidden--visually\" id=\"sk-estimator-id-27\" type=\"checkbox\" ><label for=\"sk-estimator-id-27\" class=\"sk-toggleable__label sk-toggleable__label-arrow\">RandomForestRegressor</label><div class=\"sk-toggleable__content\"><pre>RandomForestRegressor(min_samples_leaf=10, n_estimators=1000, random_state=42)</pre></div></div></div></div></div></div></div>"
      ],
      "text/plain": [
       "Pipeline(steps=[('impute', KNNImputer()),\n",
       "                ('onehot', OneHotEncoder(handle_unknown='ignore')),\n",
       "                ('rf',\n",
       "                 RandomForestRegressor(min_samples_leaf=10, n_estimators=1000,\n",
       "                                       random_state=42))])"
      ]
     },
     "execution_count": 294,
     "metadata": {},
     "output_type": "execute_result"
    }
   ],
   "source": [
    "np.random.seed(42)\n",
    "pipe.fit(X,y)"
   ]
  },
  {
   "cell_type": "code",
   "execution_count": 295,
   "metadata": {},
   "outputs": [],
   "source": [
    "np.random.seed(42)\n",
    "prediction = pipe.predict(X_test)"
   ]
  },
  {
   "cell_type": "code",
   "execution_count": 296,
   "metadata": {},
   "outputs": [
    {
     "data": {
      "text/plain": [
       "55103252.58941893"
      ]
     },
     "execution_count": 296,
     "metadata": {},
     "output_type": "execute_result"
    }
   ],
   "source": [
    "mean_absolute_error(y_test, prediction)"
   ]
  },
  {
   "cell_type": "code",
   "execution_count": 297,
   "metadata": {},
   "outputs": [],
   "source": [
    "np.random.seed(42)\n",
    "sub = pipe.predict(data_test)"
   ]
  },
  {
   "cell_type": "code",
   "execution_count": 298,
   "metadata": {},
   "outputs": [],
   "source": [
    "submission = pd.DataFrame({'Date' :  data_test.index, 'Net Cashflow from Operations' : sub})"
   ]
  },
  {
   "cell_type": "code",
   "execution_count": 299,
   "metadata": {},
   "outputs": [],
   "source": [
    "submission['Date'] = submission['Date'].astype('str')\n",
    "submission['Net Cashflow from Operations'] = submission['Net Cashflow from Operations'].astype('int64')"
   ]
  },
  {
   "cell_type": "code",
   "execution_count": 300,
   "metadata": {},
   "outputs": [],
   "source": [
    "submission.drop(labels= [56,62], axis= 0, inplace= True)"
   ]
  },
  {
   "cell_type": "code",
   "execution_count": 301,
   "metadata": {},
   "outputs": [],
   "source": [
    "pd.DataFrame.to_csv(submission, 'submission.csv', index= False)"
   ]
  },
  {
   "cell_type": "code",
   "execution_count": 302,
   "metadata": {},
   "outputs": [
    {
     "data": {
      "text/html": [
       "<div>\n",
       "<style scoped>\n",
       "    .dataframe tbody tr th:only-of-type {\n",
       "        vertical-align: middle;\n",
       "    }\n",
       "\n",
       "    .dataframe tbody tr th {\n",
       "        vertical-align: top;\n",
       "    }\n",
       "\n",
       "    .dataframe thead th {\n",
       "        text-align: right;\n",
       "    }\n",
       "</style>\n",
       "<table border=\"1\" class=\"dataframe\">\n",
       "  <thead>\n",
       "    <tr style=\"text-align: right;\">\n",
       "      <th></th>\n",
       "      <th>Date</th>\n",
       "      <th>Net Cashflow from Operations</th>\n",
       "    </tr>\n",
       "  </thead>\n",
       "  <tbody>\n",
       "    <tr>\n",
       "      <th>0</th>\n",
       "      <td>2023-02-02</td>\n",
       "      <td>55126627</td>\n",
       "    </tr>\n",
       "    <tr>\n",
       "      <th>1</th>\n",
       "      <td>2023-02-03</td>\n",
       "      <td>-7217432</td>\n",
       "    </tr>\n",
       "    <tr>\n",
       "      <th>2</th>\n",
       "      <td>2023-02-06</td>\n",
       "      <td>693454</td>\n",
       "    </tr>\n",
       "    <tr>\n",
       "      <th>3</th>\n",
       "      <td>2023-02-07</td>\n",
       "      <td>29147437</td>\n",
       "    </tr>\n",
       "    <tr>\n",
       "      <th>4</th>\n",
       "      <td>2023-02-08</td>\n",
       "      <td>55749260</td>\n",
       "    </tr>\n",
       "    <tr>\n",
       "      <th>...</th>\n",
       "      <td>...</td>\n",
       "      <td>...</td>\n",
       "    </tr>\n",
       "    <tr>\n",
       "      <th>67</th>\n",
       "      <td>2023-05-08</td>\n",
       "      <td>2612296</td>\n",
       "    </tr>\n",
       "    <tr>\n",
       "      <th>68</th>\n",
       "      <td>2023-05-09</td>\n",
       "      <td>4350412</td>\n",
       "    </tr>\n",
       "    <tr>\n",
       "      <th>69</th>\n",
       "      <td>2023-05-10</td>\n",
       "      <td>-1884595</td>\n",
       "    </tr>\n",
       "    <tr>\n",
       "      <th>70</th>\n",
       "      <td>2023-05-11</td>\n",
       "      <td>-515113</td>\n",
       "    </tr>\n",
       "    <tr>\n",
       "      <th>71</th>\n",
       "      <td>2023-05-12</td>\n",
       "      <td>9194402</td>\n",
       "    </tr>\n",
       "  </tbody>\n",
       "</table>\n",
       "<p>70 rows × 2 columns</p>\n",
       "</div>"
      ],
      "text/plain": [
       "          Date  Net Cashflow from Operations\n",
       "0   2023-02-02                      55126627\n",
       "1   2023-02-03                      -7217432\n",
       "2   2023-02-06                        693454\n",
       "3   2023-02-07                      29147437\n",
       "4   2023-02-08                      55749260\n",
       "..         ...                           ...\n",
       "67  2023-05-08                       2612296\n",
       "68  2023-05-09                       4350412\n",
       "69  2023-05-10                      -1884595\n",
       "70  2023-05-11                       -515113\n",
       "71  2023-05-12                       9194402\n",
       "\n",
       "[70 rows x 2 columns]"
      ]
     },
     "execution_count": 302,
     "metadata": {},
     "output_type": "execute_result"
    }
   ],
   "source": [
    "submission"
   ]
  }
 ],
 "metadata": {
  "kernelspec": {
   "display_name": "base",
   "language": "python",
   "name": "python3"
  },
  "language_info": {
   "codemirror_mode": {
    "name": "ipython",
    "version": 3
   },
   "file_extension": ".py",
   "mimetype": "text/x-python",
   "name": "python",
   "nbconvert_exporter": "python",
   "pygments_lexer": "ipython3",
   "version": "3.10.11"
  },
  "orig_nbformat": 4
 },
 "nbformat": 4,
 "nbformat_minor": 2
}
